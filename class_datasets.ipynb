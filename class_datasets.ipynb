{
 "cells": [
  {
   "cell_type": "code",
   "execution_count": 1,
   "metadata": {},
   "outputs": [],
   "source": [
    "from stat_models.base import *\n",
    "import pandas as pd\n",
    "import numpy as np"
   ]
  },
  {
   "cell_type": "markdown",
   "metadata": {},
   "source": [
    "# SBG"
   ]
  },
  {
   "cell_type": "code",
   "execution_count": 2,
   "metadata": {},
   "outputs": [
    {
     "data": {
      "text/plain": [
       "array([0, 1, 2, 3, 4, 5, 6, 7])"
      ]
     },
     "execution_count": 2,
     "metadata": {},
     "output_type": "execute_result"
    }
   ],
   "source": [
    "time = np.arange(0, 8, 1)\n",
    "users = np.array([1000, 869, 743, 653, 593, 551, 517, 491])"
   ]
  },
  {
   "cell_type": "code",
   "execution_count": 4,
   "metadata": {},
   "outputs": [
    {
     "data": {
      "text/plain": [
       "Shifted Beta Geometric Model with parameters: {'alpha': 0.6681058984632292, 'beta': 3.806247726362814}, log likelihood: -1611.158147411491"
      ]
     },
     "execution_count": 4,
     "metadata": {},
     "output_type": "execute_result"
    }
   ],
   "source": [
    "fit_sbg(time, users)"
   ]
  },
  {
   "cell_type": "markdown",
   "metadata": {},
   "source": [
    "# NBD"
   ]
  },
  {
   "cell_type": "code",
   "execution_count": 2,
   "metadata": {},
   "outputs": [],
   "source": [
    "nbd_data = pd.read_csv('class_examples/lecture_2_nbd.csv', index_col=0)"
   ]
  },
  {
   "cell_type": "code",
   "execution_count": 3,
   "metadata": {},
   "outputs": [],
   "source": [
    "nbd_data_array = np.array([nbd_data.index, nbd_data.observations])"
   ]
  },
  {
   "cell_type": "code",
   "execution_count": 83,
   "metadata": {},
   "outputs": [],
   "source": [
    "def fit_nbd(counts: np.ndarray, spikes:list=[], truncated:list=[], shift_start=0, right_censor_from=None)->Model:\n",
    "    \"\"\"\n",
    "    Fits a negative binomial distribution to the provided counts data by maximizing the log likelihood.\n",
    "    The function returns a Model instance with the fitted parameters r and p.\n",
    "\n",
    "    Parameters:\n",
    "    counts (np.ndarray): A 2D numpy array of counts and their associated people, optionally 3D if you want to add time\n",
    "    spikes (list): A list of values for which there is a spike in the data\n",
    "    truncated (list): A list values for which there are some \"hard core nevers\" in the data\n",
    "    shift_start (int): The index at which to start the shift (default 0)\n",
    "    right_censor_from (int): The index at which to start right censoring\n",
    "\n",
    "    Raises:\n",
    "    ValueError: If inputs are not 1D arrays, not of the same length, don't have at least 2 elements, contain negative values,\n",
    "                or do not meet the increasing/decreasing requirement.\n",
    "\n",
    "    Returns:\n",
    "    Model: An instance of the Model class with fitted parameters\n",
    "```\"\"\"\n",
    "    # add a column for types\n",
    "    if counts.shape[0] < 3:\n",
    "        # Extend the counts array safely\n",
    "        temp = np.zeros((3, counts.shape[1]))\n",
    "        temp[:counts.shape[0], :] = counts\n",
    "        temp[2, :] = 1\n",
    "        counts = temp\n",
    "\n",
    "    # Determine the full range of counts from 0 to max in the first row\n",
    "    max_count = counts[0, :].max()\n",
    "    full_range = np.arange(0, max_count + 1)\n",
    "\n",
    "    # Initialize new_counts with 3 rows and full_range columns, third row defaults to 1\n",
    "    new_counts = np.zeros((3, len(full_range)))\n",
    "    new_counts[2, :] = 1  # Defaulting third row to 1\n",
    "\n",
    "    # Populate new_counts with existing data\n",
    "    for index in range(counts.shape[1]):\n",
    "        value_index = int(counts[0, index])  # Ensure integer index\n",
    "        if value_index < len(full_range):\n",
    "            new_counts[:, value_index] = counts[:, index]\n",
    "\n",
    "    counts = new_counts\n",
    "\n",
    "    # Validate input arrays\n",
    "    if len(counts[0]) < 2:\n",
    "        raise ValueError(\"counts must have at least 2 elements\")\n",
    "    if not (np.all(counts[2, :] > 0)):\n",
    "        raise ValueError(\"times must be positive\")\n",
    "    if not np.all(counts[0][:shift_start] == 0):\n",
    "        raise ValueError(\"shift_start must be less than the first minimum in the counts data\")\n",
    "\n",
    "    def objective(params:list):\n",
    "        # print(params)\n",
    "        r, alpha = params[:2]\n",
    "        spike_parameters = params[2:]\n",
    "        probabilities = [] # store the probabilities associated with each individual observation of a count\n",
    "        for idx in range(int(counts[0].max()+1)):\n",
    "            if idx < shift_start:\n",
    "                p = 0\n",
    "                probabilities.append(p)\n",
    "            elif idx - shift_start == 0: \n",
    "                p = (alpha/(alpha + counts[2][idx]))**r\n",
    "                probabilities.append(p)\n",
    "            else: \n",
    "                p = probabilities[idx-1] * (r+(idx-shift_start)-1)/(idx-shift_start)*(counts[2][idx]/(alpha + counts[2][idx]))\n",
    "                probabilities.append(p)\n",
    "\n",
    "        # calculate the probabilities for the spikes and truncated values\n",
    "        truncated_probabilities = sum([probabilities[trunc] for trunc in truncated])\n",
    "        spike_probabilities = sum([probabilities[spike] for spike in spikes])\n",
    "        multiple = 1 - truncated_probabilities # allocate pro rata\n",
    "\n",
    "        # adjust the probabilties  \n",
    "        probabilities = [prob / multiple - spike_probabilities for prob in probabilities]\n",
    "        for idx, spike_prob in enumerate(spikes): \n",
    "            probabilities[spike_prob] = spike_parameters[idx] + probabilities[spike_prob]\n",
    "        # print(counts[1][right_censor_from])\n",
    "\n",
    "        # right censor the data\n",
    "        if right_censor_from is not None:\n",
    "            right_censor_probabilties = sum(probabilities[:right_censor_from])\n",
    "            # print(1-right_censor_probabilties)\n",
    "            probabilities[right_censor_from] = 1 - right_censor_probabilties\n",
    "            counts[1][right_censor_from] = counts[1][right_censor_from:].sum() # allocate all the remaining people in the right spike\n",
    "            # print(counts[1][right_censor_from])\n",
    "            counts[1][right_censor_from+1:] = 0 # set counts after that to 0\n",
    "        \n",
    "        # print([(p, idx) for p, idx in enumerate(probabilities)])\n",
    "        # calculate log likelihood\n",
    "        log_likelihood = counts[1] * np.log(probabilities)\n",
    "        # print(log_likelihood)\n",
    "        return -log_likelihood.sum()\n",
    "    \n",
    "    # initial guesses for alpha, r, spikes, and anti_spikes\n",
    "    initial_guess = [1, 1]\n",
    "    bounds = [(1e-5, None), (1e-5, None)]\n",
    "    # append the spike probabilities \n",
    "    for _ in spikes:\n",
    "        initial_guess.append(0)\n",
    "        bounds.append((0, 1))\n",
    "\n",
    "    result = minimize(objective, initial_guess, bounds=bounds)\n",
    "\n",
    "    # Create and return a Model instance with the fitted parameters\n",
    "    parameters={'r': result.x[0], 'alpha': result.x[1]}\n",
    "    for idx, spike in enumerate(spikes): \n",
    "        parameters[f'spike_{spike}'] = result.x[idx+1]\n",
    "\n",
    "    model = Model(\n",
    "        parameters=parameters,\n",
    "        log_likelihood= -result.fun,\n",
    "        model_type=f\"NBD, truncated: {truncated}, spikes: {spikes}, shift_start: {shift_start}, right_censor_from: {right_censor_from}\"\n",
    "    )\n",
    "    return model"
   ]
  },
  {
   "cell_type": "code",
   "execution_count": 84,
   "metadata": {},
   "outputs": [
    {
     "data": {
      "text/plain": [
       "NBD, truncated: [], spikes: [], shift_start: 0, right_censor_from: 20 Model with parameters: {'r': 0.16085371882848676, 'alpha': 0.12258690600364994}, log likelihood: -3842.081169500938"
      ]
     },
     "execution_count": 84,
     "metadata": {},
     "output_type": "execute_result"
    }
   ],
   "source": [
    "fit_nbd(nbd_data_array, right_censor_from=20)"
   ]
  },
  {
   "cell_type": "code",
   "execution_count": 68,
   "metadata": {},
   "outputs": [
    {
     "data": {
      "text/plain": [
       "array([[   0,    1,    2,    3,    4,    5,    6,    7,    8,    9,   10,\n",
       "          11,   12,   13,   14,   15,   16,   17,   18,   19,   20],\n",
       "       [2122,  340,  158,   98,   67,   49,   35,   28,   21,   17,   15,\n",
       "          12,   10,    8,    7,    7,    5,    4,    5,    3,   30]])"
      ]
     },
     "execution_count": 68,
     "metadata": {},
     "output_type": "execute_result"
    }
   ],
   "source": [
    "nbd_data_array"
   ]
  },
  {
   "cell_type": "code",
   "execution_count": 9,
   "metadata": {},
   "outputs": [
    {
     "data": {
      "text/plain": [
       "array([[0., 0.],\n",
       "       [0., 0.],\n",
       "       [0., 0.],\n",
       "       [0., 0.]])"
      ]
     },
     "execution_count": 9,
     "metadata": {},
     "output_type": "execute_result"
    }
   ],
   "source": [
    "temp = np.zeros((4, 2))\n",
    "temp"
   ]
  },
  {
   "cell_type": "code",
   "execution_count": 10,
   "metadata": {},
   "outputs": [
    {
     "data": {
      "text/plain": [
       "array([[0., 0.],\n",
       "       [1., 1.],\n",
       "       [0., 0.],\n",
       "       [0., 0.]])"
      ]
     },
     "execution_count": 10,
     "metadata": {},
     "output_type": "execute_result"
    }
   ],
   "source": [
    "temp[1] = 1\n",
    "temp"
   ]
  },
  {
   "cell_type": "code",
   "execution_count": null,
   "metadata": {},
   "outputs": [],
   "source": []
  }
 ],
 "metadata": {
  "kernelspec": {
   "display_name": "np_veclib",
   "language": "python",
   "name": "python3"
  },
  "language_info": {
   "codemirror_mode": {
    "name": "ipython",
    "version": 3
   },
   "file_extension": ".py",
   "mimetype": "text/x-python",
   "name": "python",
   "nbconvert_exporter": "python",
   "pygments_lexer": "ipython3",
   "version": "3.9.18"
  }
 },
 "nbformat": 4,
 "nbformat_minor": 2
}
